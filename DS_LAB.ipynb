{
  "cells": [
    {
      "cell_type": "markdown",
      "source": [
        "# FOUNDATIONS OF DATA SCIENCE \n",
        "\n",
        "\n",
        "> SUBMITTED BY SHUBHAM TEJANI , 20BAI10152\n",
        "\n"
      ],
      "metadata": {
        "id": "NTltTx1R9wCh"
      }
    },
    {
      "cell_type": "markdown",
      "source": [
        "## Programs for represent relations between data, and necessary linear algebraic operations on matrices."
      ],
      "metadata": {
        "id": "B73K3Bcd9p3N"
      }
    },
    {
      "cell_type": "code",
      "source": [
        "import warnings\n",
        "warnings.filterwarnings(\"ignore\")"
      ],
      "metadata": {
        "id": "ZVftBzQUxFts"
      },
      "execution_count": null,
      "outputs": []
    },
    {
      "cell_type": "code",
      "execution_count": null,
      "metadata": {
        "id": "JR4FVaCbHL93",
        "colab": {
          "base_uri": "https://localhost:8080/"
        },
        "outputId": "6647a195-283f-4589-a672-421c6314281e"
      },
      "outputs": [
        {
          "output_type": "stream",
          "name": "stdout",
          "text": [
            "X transpose:\n",
            " [[170 180 165]\n",
            " [ 60  80  55]\n",
            " [ 25  30  20]]\n",
            "AX:\n",
            " [[363.5 140.5  55. ]\n",
            " [349.  139.   54. ]\n",
            " [252.   89.   33.5]]\n",
            "A inverse:\n",
            " [[ 2.94478528 -2.26993865 -0.42944785]\n",
            " [-2.26993865  2.79141104  0.12269939]\n",
            " [-0.42944785  0.12269939  1.10429448]]\n",
            "A determinant: 0.3259999999999999\n",
            "A eigenvalues:\n",
            " [1.93421622 0.19314192 0.87264187]\n",
            "A eigenvectors:\n",
            " [[-0.67123725 -0.71866142 -0.18156626]\n",
            " [-0.65077436  0.68862977 -0.31981522]\n",
            " [-0.35487079  0.09651322  0.92992038]]\n"
          ]
        }
      ],
      "source": [
        "import numpy as np\n",
        "\n",
        "# Suppose we have the following data:\n",
        "# - Three people: Alice, Bob, and Charlie\n",
        "# - Each person has three attributes: height (in cm), weight (in kg), and age (in years)\n",
        "# - We represent this data using a matrix X of shape (3, 3), where each row represents a person and each column represents an attribute\n",
        "X = np.array([\n",
        "    [170, 60, 25],\n",
        "    [180, 80, 30],\n",
        "    [165, 55, 20]\n",
        "])\n",
        "\n",
        "# We can represent a relation between this data using a matrix A of shape (3, 3), where A[i,j] represents the strength of the relationship between attribute i and attribute j\n",
        "# For example, if A[0,1] is large and positive, it means that there is a strong positive correlation between height and weight\n",
        "A = np.array([\n",
        "    [1.0, 0.8, 0.3],\n",
        "    [0.8, 1.0, 0.2],\n",
        "    [0.3, 0.2, 1.0]\n",
        "])\n",
        "\n",
        "# We can perform various linear algebraic operations on these matrices. For example:\n",
        "\n",
        "# Compute the transpose of X\n",
        "X_T = np.transpose(X)\n",
        "print(\"X transpose:\\n\", X_T)\n",
        "\n",
        "# Compute the product of A and X\n",
        "AX = np.matmul(A, X)\n",
        "print(\"AX:\\n\", AX)\n",
        "\n",
        "# Compute the inverse of A\n",
        "A_inv = np.linalg.inv(A)\n",
        "print(\"A inverse:\\n\", A_inv)\n",
        "\n",
        "# Compute the determinant of A\n",
        "A_det = np.linalg.det(A)\n",
        "print(\"A determinant:\", A_det)\n",
        "\n",
        "# Compute the eigenvalues and eigenvectors of A\n",
        "A_eigvals, A_eigvecs = np.linalg.eig(A)\n",
        "print(\"A eigenvalues:\\n\", A_eigvals)\n",
        "print(\"A eigenvectors:\\n\", A_eigvecs)\n"
      ]
    },
    {
      "cell_type": "markdown",
      "metadata": {
        "id": "LfbyLjufHe9J"
      },
      "source": [
        "## Programs to representing matrices by decompositions (SVD and PCA)."
      ]
    },
    {
      "cell_type": "code",
      "execution_count": null,
      "metadata": {
        "id": "LP0HEw6FHPiP"
      },
      "outputs": [],
      "source": [
        "# Import necessary libraries\n",
        "import pandas as pd\n",
        "import numpy as np\n",
        "from sklearn.preprocessing import StandardScaler\n",
        "from sklearn.decomposition import PCA\n",
        "from sklearn.decomposition import TruncatedSVD\n"
      ]
    },
    {
      "cell_type": "code",
      "execution_count": null,
      "metadata": {
        "id": "DOE0MllwHjGX"
      },
      "outputs": [],
      "source": [
        "# Load the wine dataset\n",
        "wine = pd.read_csv('https://archive.ics.uci.edu/ml/machine-learning-databases/wine/wine.data', header=None)\n",
        "wine.columns = ['Class', 'Alcohol', 'Malic acid', 'Ash', 'Alcalinity of ash', 'Magnesium',\n",
        "                'Total phenols', 'Flavanoids', 'Nonflavanoid phenols', 'Proanthocyanins',\n",
        "                'Color intensity', 'Hue', 'OD280/OD315 of diluted wines', 'Proline']"
      ]
    },
    {
      "cell_type": "code",
      "execution_count": null,
      "metadata": {
        "id": "ApzYhux0HlX5"
      },
      "outputs": [],
      "source": [
        "# Separate the data and the labels\n",
        "X = wine.iloc[:, 1:].values\n",
        "y = wine.iloc[:, 0].values\n",
        "\n",
        "# Standardize the data\n",
        "sc = StandardScaler()\n",
        "X_std = sc.fit_transform(X)"
      ]
    },
    {
      "cell_type": "code",
      "execution_count": null,
      "metadata": {
        "colab": {
          "base_uri": "https://localhost:8080/"
        },
        "id": "xRtIJqsTHrfx",
        "outputId": "e24ff57c-78de-4a7b-9d14-5ef24bc85ecc"
      },
      "outputs": [
        {
          "output_type": "stream",
          "name": "stdout",
          "text": [
            "PCA explained variance ratio: 0.554063383569353\n",
            "SVD explained variance ratio: 0.5540633835693527\n"
          ]
        }
      ],
      "source": [
        "# Perform PCA\n",
        "pca = PCA(n_components=2)\n",
        "X_pca = pca.fit_transform(X_std)\n",
        "\n",
        "# Perform SVD\n",
        "svd = TruncatedSVD(n_components=2)\n",
        "X_svd = svd.fit_transform(X_std)\n",
        "\n",
        "# Print the explained variance ratios\n",
        "print('PCA explained variance ratio:', sum(pca.explained_variance_ratio_))\n",
        "print('SVD explained variance ratio:', sum(svd.explained_variance_ratio_))"
      ]
    },
    {
      "cell_type": "markdown",
      "source": [],
      "metadata": {
        "id": "YWzKPsCcAcD6"
      }
    },
    {
      "cell_type": "code",
      "source": [],
      "metadata": {
        "id": "6DL39LSDAbso"
      },
      "execution_count": null,
      "outputs": []
    },
    {
      "cell_type": "markdown",
      "metadata": {
        "id": "3zLe2bW8HxQ5"
      },
      "source": [
        "##Program for Linear Regression- Logistic Regression – Classifiers – k-Nearest Neighbors (k-NN), k-means -Decision tree – Naive Bayes- Ensemble Methods – Random Forest."
      ]
    },
    {
      "cell_type": "code",
      "source": [
        "import numpy as np\n",
        "import matplotlib.pyplot as plt\n",
        "\n",
        "# Generate sample data\n",
        "np.random.seed(0)\n",
        "X = 2 * np.random.rand(100, 1)\n",
        "y = 4 + 3 * X + np.random.randn(100, 1)\n",
        "\n",
        "# Split data into training and testing sets\n",
        "X_train, y_train = X[:80], y[:80]\n",
        "X_test, y_test = X[80:], y[80:]\n",
        "\n",
        "# Define linear regression model\n",
        "class LinearRegression:\n",
        "    def __init__(self):\n",
        "        self.theta = None\n",
        "\n",
        "    def fit(self, X, y):\n",
        "        X_b = np.c_[np.ones((len(X), 1)), X]\n",
        "        self.theta = np.linalg.inv(X_b.T.dot(X_b)).dot(X_b.T).dot(y)\n",
        "\n",
        "    def predict(self, X):\n",
        "        X_b = np.c_[np.ones((len(X), 1)), X]\n",
        "        return X_b.dot(self.theta)\n",
        "\n",
        "# Train the model on the training data\n",
        "lin_reg = LinearRegression()\n",
        "lin_reg.fit(X_train, y_train)\n",
        "\n",
        "# Make predictions on the testing data\n",
        "y_pred = lin_reg.predict(X_test)\n",
        "\n",
        "# Compute mean squared error (MSE) on the testing data\n",
        "mse = np.mean((y_test - y_pred)**2)\n",
        "print(\"Mean Squared Error:\", mse)\n",
        "\n",
        "# Plot the training data and the learned linear regression line\n",
        "plt.scatter(X_train, y_train, color='blue')\n",
        "plt.plot(X_test, y_pred, color='red')\n",
        "plt.title(\"Linear Regression\")\n",
        "plt.xlabel(\"X\")\n",
        "plt.ylabel(\"y\")\n",
        "plt.show()\n"
      ],
      "metadata": {
        "colab": {
          "base_uri": "https://localhost:8080/",
          "height": 489
        },
        "id": "4rJI0rM4xppx",
        "outputId": "202d0647-df16-4829-e453-9e0ad006d742"
      },
      "execution_count": null,
      "outputs": [
        {
          "output_type": "stream",
          "name": "stdout",
          "text": [
            "Mean Squared Error: 0.9000820622604\n"
          ]
        },
        {
          "output_type": "display_data",
          "data": {
            "text/plain": [
              "<Figure size 640x480 with 1 Axes>"
            ],
            "image/png": "[encoded data removed]"
          },
          "metadata": {}
        }
      ]
    },
    {
      "cell_type": "code",
      "source": [
        "import pandas as pd\n",
        "import numpy as np\n",
        "from sklearn.preprocessing import LabelEncoder, StandardScaler\n",
        "from sklearn.model_selection import train_test_split\n",
        "from sklearn.linear_model import LogisticRegression\n",
        "from sklearn.neighbors import KNeighborsClassifier\n",
        "from sklearn.cluster import KMeans\n",
        "from sklearn.tree import DecisionTreeClassifier\n",
        "from sklearn.naive_bayes import GaussianNB\n",
        "from sklearn.metrics import accuracy_score, confusion_matrix\n",
        "\n",
        "\n",
        "# Load the Adult Income dataset\n",
        "data = pd.read_csv(\"https://archive.ics.uci.edu/ml/machine-learning-databases/adult/adult.data\", header=None, na_values=[\" ?\"])\n",
        "data.columns = [\"age\", \"workclass\", \"fnlwgt\", \"education\", \"education_num\", \"marital_status\", \"occupation\", \"relationship\", \"race\", \"sex\", \"capital_gain\", \"capital_loss\", \"hours_per_week\", \"native_country\", \"income\"]\n",
        "data = data.dropna()\n",
        "\n",
        "# Preprocess the data\n",
        "categorical_cols = [\"workclass\", \"education\", \"marital_status\", \"occupation\", \"relationship\", \"race\", \"sex\", \"native_country\", \"income\"]\n",
        "for col in categorical_cols:\n",
        "    encoder = LabelEncoder()\n",
        "    data[col] = encoder.fit_transform(data[col])\n",
        "\n",
        "numeric_cols = [\"age\", \"fnlwgt\", \"education_num\", \"capital_gain\", \"capital_loss\", \"hours_per_week\"]\n",
        "scaler = StandardScaler()\n",
        "data[numeric_cols] = scaler.fit_transform(data[numeric_cols])\n",
        "\n",
        "# Split the data into training and testing sets\n",
        "X = data.drop(\"income\", axis=1)\n",
        "y = data[\"income\"]\n",
        "X_train, X_test, y_train, y_test = train_test_split(X, y, test_size=0.2, random_state=42)\n",
        "\n",
        "\n",
        "# Logistic Regression\n",
        "lr = LogisticRegression(random_state=42)\n",
        "lr.fit(X_train, y_train)\n",
        "y_pred = lr.predict(X_test)\n",
        "lr_accuracy = accuracy_score(y_test, y_pred)\n",
        "print(\"Logistic Regression Accuracy:\", lr_accuracy)\n",
        "print(\"Logistic Regression Confusion Matrix:\\n\", confusion_matrix(y_test, y_pred))\n",
        "\n",
        "\n",
        "# k-Nearest Neighbors (k-NN)\n",
        "knn = KNeighborsClassifier(n_neighbors=5)\n",
        "knn.fit(X_train, y_train)\n",
        "y_pred = knn.predict(X_test)\n",
        "knn_accuracy = accuracy_score(y_test, y_pred)\n",
        "print(\"k-NN Accuracy:\", knn_accuracy)\n",
        "print(\"k-NN Confusion Matrix:\\n\", confusion_matrix(y_test, y_pred))\n",
        "\n",
        "\n",
        "# k-Means\n",
        "kmeans = KMeans(n_clusters=2, random_state=42)\n",
        "kmeans.fit(X_train)\n",
        "y_pred = kmeans.predict(X_test)\n",
        "kmeans_accuracy = accuracy_score(y_test, y_pred)\n",
        "print(\"k-Means Accuracy:\", kmeans_accuracy)\n",
        "\n",
        "\n",
        "# Decision Tree\n",
        "dt = DecisionTreeClassifier(random_state=42)\n",
        "dt.fit(X_train, y_train)\n",
        "y_pred = dt.predict(X_test)\n",
        "dt_accuracy = accuracy_score(y_test, y_pred)\n",
        "print(\"Decision Tree Accuracy:\", dt_accuracy)\n",
        "print(\"Decision Tree Confusion Matrix:\\n\", confusion_matrix(y_test, y_pred))\n",
        "\n",
        "\n",
        "# Naive Bayes\n",
        "nb = GaussianNB()\n",
        "nb.fit(X_train, y_train)\n",
        "y_pred = nb.predict(X_test)\n",
        "nb_accuracy = accuracy_score(y_test, y_pred)\n",
        "print(\"Naive Bayes Accuracy:\", nb_accuracy)\n",
        "print(\"Naive Bayes Confusion Matrix:\\n\", confusion_matrix(y_test, y_pred))\n"
      ],
      "metadata": {
        "colab": {
          "base_uri": "https://localhost:8080/"
        },
        "id": "GtHbA-vGva1J",
        "outputId": "a4575ef6-3d38-4da3-c1bc-797678135114"
      },
      "execution_count": null,
      "outputs": [
        {
          "output_type": "stream",
          "name": "stdout",
          "text": [
            "Logistic Regression Accuracy: 0.8226421349245815\n",
            "Logistic Regression Confusion Matrix:\n",
            " [[4262  241]\n",
            " [ 829  701]]\n",
            "k-NN Accuracy: 0.8224763799104923\n",
            "k-NN Confusion Matrix:\n",
            " [[4072  431]\n",
            " [ 640  890]]\n",
            "k-Means Accuracy: 0.29355212995193103\n",
            "Decision Tree Accuracy: 0.8093817337974474\n",
            "Decision Tree Confusion Matrix:\n",
            " [[3930  573]\n",
            " [ 577  953]]\n",
            "Naive Bayes Accuracy: 0.7984419028675618\n",
            "Naive Bayes Confusion Matrix:\n",
            " [[4286  217]\n",
            " [ 999  531]]\n"
          ]
        }
      ]
    },
    {
      "cell_type": "code",
      "source": [
        "import pandas as pd\n",
        "from sklearn.model_selection import train_test_split\n",
        "from sklearn.ensemble import BaggingClassifier, RandomForestClassifier\n",
        "from sklearn.metrics import accuracy_score\n",
        "\n",
        "# Load the dataset\n",
        "data = pd.read_csv(r'https://raw.githubusercontent.com/shubham404-error/Diabetes_Prediction/main/diabetes.csv')\n",
        "\n",
        "# Split the data into training and testing sets\n",
        "X = data.iloc[:, :-1]\n",
        "y = data.iloc[:, -1]\n",
        "X_train, X_test, y_train, y_test = train_test_split(X, y, test_size=0.2, random_state=42)\n",
        "\n",
        "# Bagging Classifier\n",
        "bagging_clf = BaggingClassifier(n_estimators=10, random_state=42)\n",
        "bagging_clf.fit(X_train, y_train)\n",
        "bagging_pred = bagging_clf.predict(X_test)\n",
        "bagging_acc = accuracy_score(y_test, bagging_pred)\n",
        "print(f'Bagging Classifier Accuracy: {bagging_acc:.4f}')\n",
        "\n",
        "# Random Forest Classifier\n",
        "rf_clf = RandomForestClassifier(n_estimators=100, random_state=42)\n",
        "rf_clf.fit(X_train, y_train)\n",
        "rf_pred = rf_clf.predict(X_test)\n",
        "rf_acc = accuracy_score(y_test, rf_pred)\n",
        "print(f'Random Forest Classifier Accuracy: {rf_acc:.4f}')\n"
      ],
      "metadata": {
        "colab": {
          "base_uri": "https://localhost:8080/"
        },
        "id": "Gf7acVSotPt1",
        "outputId": "d8f49624-f100-4fc7-84b2-fa683447b48b"
      },
      "execution_count": null,
      "outputs": [
        {
          "output_type": "stream",
          "name": "stdout",
          "text": [
            "Bagging Classifier Accuracy: 0.7013\n",
            "Random Forest Classifier Accuracy: 0.7208\n"
          ]
        }
      ]
    }
  ],
  "metadata": {
    "colab": {
      "provenance": []
    },
    "kernelspec": {
      "display_name": "Python 3",
      "name": "python3"
    },
    "language_info": {
      "name": "python"
    }
  },
  "nbformat": 4,
  "nbformat_minor": 0
}